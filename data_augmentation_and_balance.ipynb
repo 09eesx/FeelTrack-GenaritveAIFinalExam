{
  "nbformat": 4,
  "nbformat_minor": 0,
  "metadata": {
    "colab": {
      "provenance": [],
      "mount_file_id": "1n7wvYDVddVUAaKlr7JMe0fF0FKXPQADn",
      "authorship_tag": "ABX9TyO5JnTeM6Pneg4t/6a1UMn2",
      "include_colab_link": true
    },
    "kernelspec": {
      "name": "python3",
      "display_name": "Python 3"
    },
    "language_info": {
      "name": "python"
    }
  },
  "cells": [
    {
      "cell_type": "markdown",
      "metadata": {
        "id": "view-in-github",
        "colab_type": "text"
      },
      "source": [
        "<a href=\"https://colab.research.google.com/github/09eesx/FeelTrack-GenaritveAIFinalExam/blob/main/data_augmentation_and_balance.ipynb\" target=\"_parent\"><img src=\"https://colab.research.google.com/assets/colab-badge.svg\" alt=\"Open In Colab\"/></a>"
      ]
    },
    {
      "cell_type": "code",
      "execution_count": null,
      "metadata": {
        "id": "ndPiByuldGZY"
      },
      "outputs": [],
      "source": [
        "# 🔹 2. Manuel oversampling (dengesiz sınıflar)\n",
        "print(\" Sınıf sayıları (önce):\")\n",
        "print(all_data[\"label\"].value_counts())\n",
        "\n",
        "oversample_labels = [\"kişilik bozukluğu\",\"hakaret\",\"tehdit\"]\n",
        "for label in oversample_labels:\n",
        "    target_df = all_data[all_data[\"label\"] == label]\n",
        "    for _ in range(20):  # 20 kat çoğalt\n",
        "        all_data = pd.concat([all_data, target_df], ignore_index=True)\n",
        "\n",
        "print(\"\\n📈 Sınıf sayıları (sonra):\")\n",
        "print(all_data[\"label\"].value_counts())\n",
        "\n",
        "\n",
        "# Her sınıftan en az 150 örnek al\n",
        "df_balanced = all_data.groupby(\"label\").apply(lambda x: x.sample(min(150, len(x)), random_state=42)).reset_index(drop=True)\n",
        "\n",
        "# Her sınıftan 10000 örnek al\n",
        "df_filtered = all_data.groupby(\"label\").apply(lambda x: x.sample(min(len(x), 10000), random_state=42))\n",
        "df_filtered = df_filtered.reset_index(drop=True)\n",
        "\n",
        "# Yeni sınıf dağılımını görelim\n",
        "print(\" Yeni sınıf dağılımı:\")\n",
        "print(df_filtered[\"label\"].value_counts())\n",
        "\n",
        "# Kaydet\n",
        "df_filtered.to_csv(\"/content/drive/MyDrive/data/train_cleaned_balanced2.csv\", index=False)\n",
        "\n"
      ]
    },
    {
      "cell_type": "code",
      "source": [
        "import pandas as pd"
      ],
      "metadata": {
        "id": "t_gYg2cZDEH7"
      },
      "execution_count": null,
      "outputs": []
    },
    {
      "cell_type": "code",
      "source": [
        "data = pd.read_csv(\"/content/drive/MyDrive/data/train_cleaned_balanced_augmented_final9.csv\")"
      ],
      "metadata": {
        "id": "azczNhKFCzdt"
      },
      "execution_count": null,
      "outputs": []
    },
    {
      "cell_type": "code",
      "source": [
        "data.label.unique()"
      ],
      "metadata": {
        "colab": {
          "base_uri": "https://localhost:8080/"
        },
        "id": "jRHlf_53DHnc",
        "outputId": "8dfd7462-d8f5-4c46-8941-3e3dc27a39de"
      },
      "execution_count": null,
      "outputs": [
        {
          "output_type": "execute_result",
          "data": {
            "text/plain": [
              "array(['anksiyete', 'bipolar', 'depresyon', 'hakaret', 'intihar eğilimi',\n",
              "       'kişilik bozukluğu', 'nefret söylemi', 'normal', 'sevinç', 'stres',\n",
              "       'tehdit', 'umutlu', 'öfke', 'üzgünlük'], dtype=object)"
            ]
          },
          "metadata": {},
          "execution_count": 4
        }
      ]
    },
    {
      "cell_type": "code",
      "source": [
        "\n",
        "\n",
        "# Etiketleri dönüştür\n",
        "label_mapping = {\n",
        "    \"bipolar\": \"ruh_hali_salınımı\",\n",
        "    \"kişilik bozukluğu\": \"güvensiz\",  # veya 'insecure'\n",
        "    \"depresyon\": \"üzüntü\",\n",
        "    \"intihar eğilimi\": \"intihar_düşüncesi\"\n",
        "}\n",
        "\n",
        "data[\"label\"] = data[\"label\"].replace(label_mapping)\n",
        "\n",
        "# Temizlenmiş veriyi kaydet\n",
        "data.to_csv(\"cleaned_dataset.csv\", index=False)\n"
      ],
      "metadata": {
        "id": "rA-QkOvQDJHr"
      },
      "execution_count": null,
      "outputs": []
    },
    {
      "cell_type": "code",
      "source": [
        "pd.read_csv(\"cleaned_dataset.csv\").label.unique()"
      ],
      "metadata": {
        "colab": {
          "base_uri": "https://localhost:8080/"
        },
        "id": "KUuzLTEcGEft",
        "outputId": "99a7d538-d0db-45dd-df01-8111750446a4"
      },
      "execution_count": null,
      "outputs": [
        {
          "output_type": "execute_result",
          "data": {
            "text/plain": [
              "array(['anksiyete', 'ruh_hali_salınımı', 'üzüntü', 'hakaret',\n",
              "       'intihar_düşüncesi', 'güvensiz', 'nefret söylemi', 'normal',\n",
              "       'sevinç', 'stres', 'tehdit', 'umutlu', 'öfke', 'üzgünlük'],\n",
              "      dtype=object)"
            ]
          },
          "metadata": {},
          "execution_count": 7
        }
      ]
    },
    {
      "cell_type": "code",
      "source": [],
      "metadata": {
        "id": "JE6hne5RGjyz"
      },
      "execution_count": null,
      "outputs": []
    },
    {
      "cell_type": "code",
      "source": [],
      "metadata": {
        "id": "HUaTUzG1Kj0j"
      },
      "execution_count": null,
      "outputs": []
    }
  ]
}